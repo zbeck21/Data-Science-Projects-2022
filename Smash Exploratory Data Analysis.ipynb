{
 "cells": [
  {
   "cell_type": "markdown",
   "metadata": {},
   "source": [
    "## Introduction"
   ]
  },
  {
   "cell_type": "markdown",
   "metadata": {},
   "source": [
    "Welcome to my Data Analysis on the data I have curated from my time playing Super Smash Bros Ultimate competitively.\n",
    "\n",
    "Ever since I was young, I have always enjoyed having a variety of outlets for competition. It began in elementary school with sports and math competitions then quickly branched into travel sports leagues, video games, and mock political economy events. While playing intramural soccer in my freshman year of university I met a teammate who competed in local events for the widely popular game, Super Smash Bros. As I played the game more, I became hungry to get better and improve my results at events. Not only did this begin my 3-year journey of competing, it also inspired me to create the first Super Smash Bros Esports team at Colorado State University. Alongside running the team I created and ran an event at Colorado State University where new players could come compete on a weekly basis."
   ]
  },
  {
   "cell_type": "markdown",
   "metadata": {},
   "source": [
    "#### How is a Super Smash Bros event similar to other types of competition?"
   ]
  },
  {
   "cell_type": "markdown",
   "metadata": {},
   "source": [
    "Events held for Super Smash Bros Ultimate are very similar to the March Madness tournament held for NCAA basketball. A bracket is created where each participant is seeded depending on their skill level and success. Following the seeding a bracket is created where each player play their opponent in a best of 3 set to determine who moves on in the event. The key difference from March Madness is that Super Smash Bros events are played in a double elimination style. This means a player must lose 2 best of 3 sets before they are eliminated. The dataset used for this project is a culmination of all the events I have attended over a 3-year period."
   ]
  },
  {
   "cell_type": "markdown",
   "metadata": {},
   "source": [
    "#### Variables"
   ]
  },
  {
   "cell_type": "markdown",
   "metadata": {},
   "source": [
    "Date of Event: The day the event took place on\n",
    "\n",
    "Event: Name of the event I attended\n",
    "\n",
    "Location (City): The city the event was held in\n",
    "\n",
    "Location (State): The state the event was held in\n",
    "\n",
    "Online or Offline: Shows if the event was held in person or online\n",
    "\n",
    "Number of Entrants in event: Total number of entrants in the event\n",
    "\n",
    "Placing in event: My placing in the event\n",
    "\n",
    "Opponent: The player I played during each round of the event\n",
    "\n",
    "Opponents Main: The character that my opponent played\n",
    "\n",
    "Set Score: Resulting score of the best of 3/5 set\n",
    "\n",
    "Win or Lose: The result of the set\n",
    "\n",
    "Opponents Win Rate as of 2022: My opponents win rate scraped as of 2022"
   ]
  },
  {
   "cell_type": "markdown",
   "metadata": {},
   "source": [
    "#### Limitations"
   ]
  },
  {
   "cell_type": "markdown",
   "metadata": {},
   "source": [
    "The main limitation I faced when curating this dataset was that the data for my opponents win rate does not match up to when I played them. For instance, the player Robber currently has a 65%-win rate. I have beat him 5 out of 9 sets that we have played. This statistic is misleading because the data for my opponents win rate was taken when I started this project. It is highly likely I won my 5 sets over the player Robber before he improved his skills and achieved a higher win rate.\n",
    "\n",
    "If I could go back, I would collect this data set over the 3 years I have played and note down my opponents win rate the day I played them. This would give the statistic more meaning and allow me to draw conclusive results. For now, all exploratory data analysis done with this metric should be taken with a grain of salt. I still included them to suffice my curiosity.\n"
   ]
  },
  {
   "cell_type": "markdown",
   "metadata": {},
   "source": [
    "## Importing Modules"
   ]
  },
  {
   "cell_type": "code",
   "execution_count": 1,
   "metadata": {},
   "outputs": [],
   "source": [
    "import pandas as pd\n",
    "import numpy as np\n",
    "import matplotlib.pyplot as plt"
   ]
  },
  {
   "cell_type": "markdown",
   "metadata": {},
   "source": [
    "## First Look at the Data with Summary Statistics"
   ]
  },
  {
   "cell_type": "code",
   "execution_count": 2,
   "metadata": {},
   "outputs": [
    {
     "data": {
      "text/html": [
       "<div>\n",
       "<style scoped>\n",
       "    .dataframe tbody tr th:only-of-type {\n",
       "        vertical-align: middle;\n",
       "    }\n",
       "\n",
       "    .dataframe tbody tr th {\n",
       "        vertical-align: top;\n",
       "    }\n",
       "\n",
       "    .dataframe thead th {\n",
       "        text-align: right;\n",
       "    }\n",
       "</style>\n",
       "<table border=\"1\" class=\"dataframe\">\n",
       "  <thead>\n",
       "    <tr style=\"text-align: right;\">\n",
       "      <th></th>\n",
       "      <th>Date of Event</th>\n",
       "      <th>Event</th>\n",
       "      <th>Location (City)</th>\n",
       "      <th>Location (State)</th>\n",
       "      <th>Online or Offline</th>\n",
       "      <th>Number of Entrants in event</th>\n",
       "      <th>Placing in event</th>\n",
       "      <th>Opponent</th>\n",
       "      <th>Opponents Main</th>\n",
       "      <th>Set Score</th>\n",
       "      <th>Win or Lose</th>\n",
       "      <th>Opponents Win Rate as of 2022</th>\n",
       "    </tr>\n",
       "  </thead>\n",
       "  <tbody>\n",
       "    <tr>\n",
       "      <th>0</th>\n",
       "      <td>12/29/18</td>\n",
       "      <td>Let's Make Big Moves</td>\n",
       "      <td>Somerset</td>\n",
       "      <td>New Jersey</td>\n",
       "      <td>Offline</td>\n",
       "      <td>448</td>\n",
       "      <td>257</td>\n",
       "      <td>Kismet</td>\n",
       "      <td>Corrin</td>\n",
       "      <td>2-1</td>\n",
       "      <td>Win</td>\n",
       "      <td>0%</td>\n",
       "    </tr>\n",
       "    <tr>\n",
       "      <th>1</th>\n",
       "      <td>12/29/18</td>\n",
       "      <td>Let's Make Big Moves</td>\n",
       "      <td>Somerset</td>\n",
       "      <td>New Jersey</td>\n",
       "      <td>Offline</td>\n",
       "      <td>448</td>\n",
       "      <td>257</td>\n",
       "      <td>Aryeh</td>\n",
       "      <td>Ness</td>\n",
       "      <td>0-2</td>\n",
       "      <td>Lose</td>\n",
       "      <td>67%</td>\n",
       "    </tr>\n",
       "    <tr>\n",
       "      <th>2</th>\n",
       "      <td>12/29/18</td>\n",
       "      <td>Let's Make Big Moves</td>\n",
       "      <td>Somerset</td>\n",
       "      <td>New Jersey</td>\n",
       "      <td>Offline</td>\n",
       "      <td>448</td>\n",
       "      <td>257</td>\n",
       "      <td>Luminavi</td>\n",
       "      <td>Lucas</td>\n",
       "      <td>0-2</td>\n",
       "      <td>Lose</td>\n",
       "      <td>50%</td>\n",
       "    </tr>\n",
       "    <tr>\n",
       "      <th>3</th>\n",
       "      <td>01/26/19</td>\n",
       "      <td>Naifu Wars</td>\n",
       "      <td>Null</td>\n",
       "      <td>Null</td>\n",
       "      <td>Online</td>\n",
       "      <td>811</td>\n",
       "      <td>513</td>\n",
       "      <td>XLR8</td>\n",
       "      <td>Young Link</td>\n",
       "      <td>0-2</td>\n",
       "      <td>Lose</td>\n",
       "      <td>69%</td>\n",
       "    </tr>\n",
       "    <tr>\n",
       "      <th>4</th>\n",
       "      <td>01/26/19</td>\n",
       "      <td>Naifu Wars</td>\n",
       "      <td>Null</td>\n",
       "      <td>Null</td>\n",
       "      <td>Online</td>\n",
       "      <td>811</td>\n",
       "      <td>513</td>\n",
       "      <td>Silent419Kill</td>\n",
       "      <td>Samus</td>\n",
       "      <td>2-1</td>\n",
       "      <td>Win</td>\n",
       "      <td>33%</td>\n",
       "    </tr>\n",
       "    <tr>\n",
       "      <th>5</th>\n",
       "      <td>01/26/19</td>\n",
       "      <td>Naifu Wars</td>\n",
       "      <td>Null</td>\n",
       "      <td>Null</td>\n",
       "      <td>Online</td>\n",
       "      <td>811</td>\n",
       "      <td>513</td>\n",
       "      <td>Null</td>\n",
       "      <td>Mewtwo</td>\n",
       "      <td>0-2</td>\n",
       "      <td>Lose</td>\n",
       "      <td>44%</td>\n",
       "    </tr>\n",
       "    <tr>\n",
       "      <th>6</th>\n",
       "      <td>01/31/19</td>\n",
       "      <td>Weekly Wednesday #141</td>\n",
       "      <td>Fort Collins</td>\n",
       "      <td>Colorado</td>\n",
       "      <td>Offline</td>\n",
       "      <td>64</td>\n",
       "      <td>17</td>\n",
       "      <td>Reptile1425</td>\n",
       "      <td>Megaman</td>\n",
       "      <td>0-2</td>\n",
       "      <td>Lose</td>\n",
       "      <td>70%</td>\n",
       "    </tr>\n",
       "    <tr>\n",
       "      <th>7</th>\n",
       "      <td>01/31/19</td>\n",
       "      <td>Weekly Wednesday #141</td>\n",
       "      <td>Fort Collins</td>\n",
       "      <td>Colorado</td>\n",
       "      <td>Offline</td>\n",
       "      <td>64</td>\n",
       "      <td>17</td>\n",
       "      <td>Drew</td>\n",
       "      <td>Null</td>\n",
       "      <td>2-1</td>\n",
       "      <td>Win</td>\n",
       "      <td>0%</td>\n",
       "    </tr>\n",
       "    <tr>\n",
       "      <th>8</th>\n",
       "      <td>01/31/19</td>\n",
       "      <td>Weekly Wednesday #141</td>\n",
       "      <td>Fort Collins</td>\n",
       "      <td>Colorado</td>\n",
       "      <td>Offline</td>\n",
       "      <td>64</td>\n",
       "      <td>17</td>\n",
       "      <td>GetCrabby</td>\n",
       "      <td>King K Rool</td>\n",
       "      <td>2-0</td>\n",
       "      <td>Win</td>\n",
       "      <td>49%</td>\n",
       "    </tr>\n",
       "    <tr>\n",
       "      <th>9</th>\n",
       "      <td>01/31/19</td>\n",
       "      <td>Weekly Wednesday #141</td>\n",
       "      <td>Fort Collins</td>\n",
       "      <td>Colorado</td>\n",
       "      <td>Offline</td>\n",
       "      <td>64</td>\n",
       "      <td>17</td>\n",
       "      <td>Hamm</td>\n",
       "      <td>Bowser</td>\n",
       "      <td>2-1</td>\n",
       "      <td>Win</td>\n",
       "      <td>28%</td>\n",
       "    </tr>\n",
       "  </tbody>\n",
       "</table>\n",
       "</div>"
      ],
      "text/plain": [
       "  Date of Event                  Event Location (City) Location (State)  \\\n",
       "0      12/29/18   Let's Make Big Moves        Somerset       New Jersey   \n",
       "1      12/29/18   Let's Make Big Moves        Somerset       New Jersey   \n",
       "2      12/29/18   Let's Make Big Moves        Somerset       New Jersey   \n",
       "3      01/26/19             Naifu Wars            Null             Null   \n",
       "4      01/26/19             Naifu Wars            Null             Null   \n",
       "5      01/26/19             Naifu Wars            Null             Null   \n",
       "6      01/31/19  Weekly Wednesday #141    Fort Collins         Colorado   \n",
       "7      01/31/19  Weekly Wednesday #141    Fort Collins         Colorado   \n",
       "8      01/31/19  Weekly Wednesday #141    Fort Collins         Colorado   \n",
       "9      01/31/19  Weekly Wednesday #141    Fort Collins         Colorado   \n",
       "\n",
       "  Online or Offline  Number of Entrants in event  Placing in event  \\\n",
       "0           Offline                          448               257   \n",
       "1           Offline                          448               257   \n",
       "2           Offline                          448               257   \n",
       "3            Online                          811               513   \n",
       "4            Online                          811               513   \n",
       "5            Online                          811               513   \n",
       "6           Offline                           64                17   \n",
       "7           Offline                           64                17   \n",
       "8           Offline                           64                17   \n",
       "9           Offline                           64                17   \n",
       "\n",
       "        Opponent Opponents Main Set Score Win or Lose  \\\n",
       "0         Kismet         Corrin       2-1         Win   \n",
       "1          Aryeh           Ness       0-2        Lose   \n",
       "2       Luminavi          Lucas       0-2        Lose   \n",
       "3           XLR8     Young Link       0-2        Lose   \n",
       "4  Silent419Kill          Samus       2-1         Win   \n",
       "5           Null         Mewtwo       0-2        Lose   \n",
       "6    Reptile1425        Megaman       0-2        Lose   \n",
       "7           Drew           Null       2-1         Win   \n",
       "8      GetCrabby    King K Rool       2-0         Win   \n",
       "9           Hamm         Bowser       2-1         Win   \n",
       "\n",
       "  Opponents Win Rate as of 2022  \n",
       "0                            0%  \n",
       "1                           67%  \n",
       "2                           50%  \n",
       "3                           69%  \n",
       "4                           33%  \n",
       "5                           44%  \n",
       "6                           70%  \n",
       "7                            0%  \n",
       "8                           49%  \n",
       "9                           28%  "
      ]
     },
     "execution_count": 2,
     "metadata": {},
     "output_type": "execute_result"
    }
   ],
   "source": [
    "df = pd.read_csv('Smash Data Set.csv')\n",
    "df.head(10)"
   ]
  },
  {
   "cell_type": "code",
   "execution_count": 3,
   "metadata": {},
   "outputs": [
    {
     "data": {
      "text/html": [
       "<div>\n",
       "<style scoped>\n",
       "    .dataframe tbody tr th:only-of-type {\n",
       "        vertical-align: middle;\n",
       "    }\n",
       "\n",
       "    .dataframe tbody tr th {\n",
       "        vertical-align: top;\n",
       "    }\n",
       "\n",
       "    .dataframe thead th {\n",
       "        text-align: right;\n",
       "    }\n",
       "</style>\n",
       "<table border=\"1\" class=\"dataframe\">\n",
       "  <thead>\n",
       "    <tr style=\"text-align: right;\">\n",
       "      <th></th>\n",
       "      <th>Date of Event</th>\n",
       "      <th>Event</th>\n",
       "      <th>Location (City)</th>\n",
       "      <th>Location (State)</th>\n",
       "      <th>Online or Offline</th>\n",
       "      <th>Number of Entrants in event</th>\n",
       "      <th>Placing in event</th>\n",
       "      <th>Opponent</th>\n",
       "      <th>Opponents Main</th>\n",
       "      <th>Set Score</th>\n",
       "      <th>Win or Lose</th>\n",
       "      <th>Opponents Win Rate as of 2022</th>\n",
       "    </tr>\n",
       "  </thead>\n",
       "  <tbody>\n",
       "    <tr>\n",
       "      <th>377</th>\n",
       "      <td>07/09/21</td>\n",
       "      <td>Namki House #16</td>\n",
       "      <td>Fort Collins</td>\n",
       "      <td>Colorado</td>\n",
       "      <td>Offline</td>\n",
       "      <td>33</td>\n",
       "      <td>5</td>\n",
       "      <td>Ninjy</td>\n",
       "      <td>Pyra and Mythra</td>\n",
       "      <td>2-1</td>\n",
       "      <td>Win</td>\n",
       "      <td>58%</td>\n",
       "    </tr>\n",
       "    <tr>\n",
       "      <th>378</th>\n",
       "      <td>07/09/21</td>\n",
       "      <td>Namki House #16</td>\n",
       "      <td>Fort Collins</td>\n",
       "      <td>Colorado</td>\n",
       "      <td>Offline</td>\n",
       "      <td>33</td>\n",
       "      <td>5</td>\n",
       "      <td>Namki</td>\n",
       "      <td>Villager</td>\n",
       "      <td>2-1</td>\n",
       "      <td>Win</td>\n",
       "      <td>46%</td>\n",
       "    </tr>\n",
       "    <tr>\n",
       "      <th>379</th>\n",
       "      <td>07/09/21</td>\n",
       "      <td>Namki House #16</td>\n",
       "      <td>Fort Collins</td>\n",
       "      <td>Colorado</td>\n",
       "      <td>Offline</td>\n",
       "      <td>33</td>\n",
       "      <td>5</td>\n",
       "      <td>Crisis</td>\n",
       "      <td>Luigi</td>\n",
       "      <td>1-2</td>\n",
       "      <td>Lose</td>\n",
       "      <td>50%</td>\n",
       "    </tr>\n",
       "    <tr>\n",
       "      <th>380</th>\n",
       "      <td>07/09/21</td>\n",
       "      <td>Namki House #16</td>\n",
       "      <td>Fort Collins</td>\n",
       "      <td>Colorado</td>\n",
       "      <td>Offline</td>\n",
       "      <td>33</td>\n",
       "      <td>5</td>\n",
       "      <td>Icyoyo</td>\n",
       "      <td>Palutena</td>\n",
       "      <td>1-2</td>\n",
       "      <td>Lose</td>\n",
       "      <td>63%</td>\n",
       "    </tr>\n",
       "    <tr>\n",
       "      <th>381</th>\n",
       "      <td>07/23/21</td>\n",
       "      <td>Namki House #17</td>\n",
       "      <td>Fort Collins</td>\n",
       "      <td>Colorado</td>\n",
       "      <td>Offline</td>\n",
       "      <td>33</td>\n",
       "      <td>5</td>\n",
       "      <td>Strawberry</td>\n",
       "      <td>Palutena</td>\n",
       "      <td>2-1</td>\n",
       "      <td>Win</td>\n",
       "      <td>44%</td>\n",
       "    </tr>\n",
       "    <tr>\n",
       "      <th>382</th>\n",
       "      <td>07/23/21</td>\n",
       "      <td>Namki House #17</td>\n",
       "      <td>Fort Collins</td>\n",
       "      <td>Colorado</td>\n",
       "      <td>Offline</td>\n",
       "      <td>33</td>\n",
       "      <td>5</td>\n",
       "      <td>Glitch</td>\n",
       "      <td>Bowser</td>\n",
       "      <td>2-1</td>\n",
       "      <td>Win</td>\n",
       "      <td>54%</td>\n",
       "    </tr>\n",
       "    <tr>\n",
       "      <th>383</th>\n",
       "      <td>07/23/21</td>\n",
       "      <td>Namki House #17</td>\n",
       "      <td>Fort Collins</td>\n",
       "      <td>Colorado</td>\n",
       "      <td>Offline</td>\n",
       "      <td>33</td>\n",
       "      <td>5</td>\n",
       "      <td>Acid</td>\n",
       "      <td>Greninja</td>\n",
       "      <td>1-2</td>\n",
       "      <td>Lose</td>\n",
       "      <td>72%</td>\n",
       "    </tr>\n",
       "    <tr>\n",
       "      <th>384</th>\n",
       "      <td>07/23/21</td>\n",
       "      <td>Namki House #17</td>\n",
       "      <td>Fort Collins</td>\n",
       "      <td>Colorado</td>\n",
       "      <td>Offline</td>\n",
       "      <td>33</td>\n",
       "      <td>5</td>\n",
       "      <td>Hoji</td>\n",
       "      <td>Peach</td>\n",
       "      <td>2-0</td>\n",
       "      <td>Win</td>\n",
       "      <td>39%</td>\n",
       "    </tr>\n",
       "    <tr>\n",
       "      <th>385</th>\n",
       "      <td>07/23/21</td>\n",
       "      <td>Namki House #17</td>\n",
       "      <td>Fort Collins</td>\n",
       "      <td>Colorado</td>\n",
       "      <td>Offline</td>\n",
       "      <td>33</td>\n",
       "      <td>5</td>\n",
       "      <td>Puppy</td>\n",
       "      <td>Mario</td>\n",
       "      <td>2-1</td>\n",
       "      <td>Win</td>\n",
       "      <td>59%</td>\n",
       "    </tr>\n",
       "    <tr>\n",
       "      <th>386</th>\n",
       "      <td>07/23/21</td>\n",
       "      <td>Namki House #17</td>\n",
       "      <td>Fort Collins</td>\n",
       "      <td>Colorado</td>\n",
       "      <td>Offline</td>\n",
       "      <td>33</td>\n",
       "      <td>5</td>\n",
       "      <td>Jray</td>\n",
       "      <td>Roy</td>\n",
       "      <td>0-2</td>\n",
       "      <td>Lose</td>\n",
       "      <td>67%</td>\n",
       "    </tr>\n",
       "  </tbody>\n",
       "</table>\n",
       "</div>"
      ],
      "text/plain": [
       "    Date of Event            Event Location (City) Location (State)  \\\n",
       "377      07/09/21  Namki House #16    Fort Collins         Colorado   \n",
       "378      07/09/21  Namki House #16    Fort Collins         Colorado   \n",
       "379      07/09/21  Namki House #16    Fort Collins         Colorado   \n",
       "380      07/09/21  Namki House #16    Fort Collins         Colorado   \n",
       "381      07/23/21  Namki House #17    Fort Collins         Colorado   \n",
       "382      07/23/21  Namki House #17    Fort Collins         Colorado   \n",
       "383      07/23/21  Namki House #17    Fort Collins         Colorado   \n",
       "384      07/23/21  Namki House #17    Fort Collins         Colorado   \n",
       "385      07/23/21  Namki House #17    Fort Collins         Colorado   \n",
       "386      07/23/21  Namki House #17    Fort Collins         Colorado   \n",
       "\n",
       "    Online or Offline  Number of Entrants in event  Placing in event  \\\n",
       "377           Offline                           33                 5   \n",
       "378           Offline                           33                 5   \n",
       "379           Offline                           33                 5   \n",
       "380           Offline                           33                 5   \n",
       "381           Offline                           33                 5   \n",
       "382           Offline                           33                 5   \n",
       "383           Offline                           33                 5   \n",
       "384           Offline                           33                 5   \n",
       "385           Offline                           33                 5   \n",
       "386           Offline                           33                 5   \n",
       "\n",
       "       Opponent   Opponents Main Set Score Win or Lose  \\\n",
       "377       Ninjy  Pyra and Mythra       2-1         Win   \n",
       "378       Namki         Villager       2-1         Win   \n",
       "379      Crisis            Luigi       1-2        Lose   \n",
       "380      Icyoyo         Palutena       1-2        Lose   \n",
       "381  Strawberry         Palutena       2-1         Win   \n",
       "382      Glitch           Bowser       2-1         Win   \n",
       "383        Acid         Greninja       1-2        Lose   \n",
       "384        Hoji            Peach       2-0         Win   \n",
       "385       Puppy            Mario       2-1         Win   \n",
       "386        Jray              Roy       0-2        Lose   \n",
       "\n",
       "    Opponents Win Rate as of 2022  \n",
       "377                           58%  \n",
       "378                           46%  \n",
       "379                           50%  \n",
       "380                           63%  \n",
       "381                           44%  \n",
       "382                           54%  \n",
       "383                           72%  \n",
       "384                           39%  \n",
       "385                           59%  \n",
       "386                           67%  "
      ]
     },
     "execution_count": 3,
     "metadata": {},
     "output_type": "execute_result"
    }
   ],
   "source": [
    "df.tail(10)"
   ]
  },
  {
   "cell_type": "code",
   "execution_count": 4,
   "metadata": {},
   "outputs": [
    {
     "data": {
      "text/plain": [
       "Index(['Date of Event', 'Event', 'Location (City)', 'Location (State)',\n",
       "       'Online or Offline', 'Number of Entrants in event', 'Placing in event',\n",
       "       'Opponent', 'Opponents Main', 'Set Score', 'Win or Lose',\n",
       "       'Opponents Win Rate as of 2022'],\n",
       "      dtype='object')"
      ]
     },
     "execution_count": 4,
     "metadata": {},
     "output_type": "execute_result"
    }
   ],
   "source": [
    "df.columns"
   ]
  },
  {
   "cell_type": "code",
   "execution_count": 5,
   "metadata": {
    "scrolled": true
   },
   "outputs": [
    {
     "name": "stdout",
     "output_type": "stream",
     "text": [
      "<class 'pandas.core.frame.DataFrame'>\n",
      "RangeIndex: 387 entries, 0 to 386\n",
      "Data columns (total 12 columns):\n",
      " #   Column                         Non-Null Count  Dtype \n",
      "---  ------                         --------------  ----- \n",
      " 0   Date of Event                  387 non-null    object\n",
      " 1   Event                          387 non-null    object\n",
      " 2   Location (City)                387 non-null    object\n",
      " 3   Location (State)               387 non-null    object\n",
      " 4   Online or Offline              387 non-null    object\n",
      " 5   Number of Entrants in event    387 non-null    int64 \n",
      " 6   Placing in event               387 non-null    int64 \n",
      " 7   Opponent                       387 non-null    object\n",
      " 8   Opponents Main                 387 non-null    object\n",
      " 9   Set Score                      387 non-null    object\n",
      " 10  Win or Lose                    387 non-null    object\n",
      " 11  Opponents Win Rate as of 2022  387 non-null    object\n",
      "dtypes: int64(2), object(10)\n",
      "memory usage: 36.4+ KB\n"
     ]
    }
   ],
   "source": [
    "df.info()"
   ]
  },
  {
   "cell_type": "code",
   "execution_count": 6,
   "metadata": {},
   "outputs": [
    {
     "data": {
      "text/html": [
       "<div>\n",
       "<style scoped>\n",
       "    .dataframe tbody tr th:only-of-type {\n",
       "        vertical-align: middle;\n",
       "    }\n",
       "\n",
       "    .dataframe tbody tr th {\n",
       "        vertical-align: top;\n",
       "    }\n",
       "\n",
       "    .dataframe thead th {\n",
       "        text-align: right;\n",
       "    }\n",
       "</style>\n",
       "<table border=\"1\" class=\"dataframe\">\n",
       "  <thead>\n",
       "    <tr style=\"text-align: right;\">\n",
       "      <th></th>\n",
       "      <th>Number of Entrants in event</th>\n",
       "      <th>Placing in event</th>\n",
       "    </tr>\n",
       "  </thead>\n",
       "  <tbody>\n",
       "    <tr>\n",
       "      <th>count</th>\n",
       "      <td>387.000000</td>\n",
       "      <td>387.000000</td>\n",
       "    </tr>\n",
       "    <tr>\n",
       "      <th>mean</th>\n",
       "      <td>48.826873</td>\n",
       "      <td>14.806202</td>\n",
       "    </tr>\n",
       "    <tr>\n",
       "      <th>std</th>\n",
       "      <td>78.291130</td>\n",
       "      <td>49.689619</td>\n",
       "    </tr>\n",
       "    <tr>\n",
       "      <th>min</th>\n",
       "      <td>6.000000</td>\n",
       "      <td>2.000000</td>\n",
       "    </tr>\n",
       "    <tr>\n",
       "      <th>25%</th>\n",
       "      <td>27.000000</td>\n",
       "      <td>5.000000</td>\n",
       "    </tr>\n",
       "    <tr>\n",
       "      <th>50%</th>\n",
       "      <td>39.000000</td>\n",
       "      <td>7.000000</td>\n",
       "    </tr>\n",
       "    <tr>\n",
       "      <th>75%</th>\n",
       "      <td>51.000000</td>\n",
       "      <td>13.000000</td>\n",
       "    </tr>\n",
       "    <tr>\n",
       "      <th>max</th>\n",
       "      <td>811.000000</td>\n",
       "      <td>513.000000</td>\n",
       "    </tr>\n",
       "  </tbody>\n",
       "</table>\n",
       "</div>"
      ],
      "text/plain": [
       "       Number of Entrants in event  Placing in event\n",
       "count                   387.000000        387.000000\n",
       "mean                     48.826873         14.806202\n",
       "std                      78.291130         49.689619\n",
       "min                       6.000000          2.000000\n",
       "25%                      27.000000          5.000000\n",
       "50%                      39.000000          7.000000\n",
       "75%                      51.000000         13.000000\n",
       "max                     811.000000        513.000000"
      ]
     },
     "execution_count": 6,
     "metadata": {},
     "output_type": "execute_result"
    }
   ],
   "source": [
    "df.describe()"
   ]
  },
  {
   "cell_type": "code",
   "execution_count": 7,
   "metadata": {},
   "outputs": [
    {
     "data": {
      "text/plain": [
       "Date of Event                                12/29/18\n",
       "Event                            Let's Make Big Moves\n",
       "Location (City)                              Somerset\n",
       "Location (State)                           New Jersey\n",
       "Online or Offline                             Offline\n",
       "Number of Entrants in event                       448\n",
       "Placing in event                                  257\n",
       "Opponent                                        Aryeh\n",
       "Opponents Main                                   Ness\n",
       "Set Score                                         0-2\n",
       "Win or Lose                                      Lose\n",
       "Opponents Win Rate as of 2022                     67%\n",
       "Name: 1, dtype: object"
      ]
     },
     "execution_count": 7,
     "metadata": {},
     "output_type": "execute_result"
    }
   ],
   "source": [
    "df.loc[1]"
   ]
  },
  {
   "cell_type": "code",
   "execution_count": 8,
   "metadata": {},
   "outputs": [
    {
     "data": {
      "text/plain": [
       "(387, 12)"
      ]
     },
     "execution_count": 8,
     "metadata": {},
     "output_type": "execute_result"
    }
   ],
   "source": [
    "df.shape"
   ]
  },
  {
   "cell_type": "markdown",
   "metadata": {},
   "source": [
    "## Manipulating Data \n",
    "\n",
    "A few of the data types in the data set need to be adjusted to be able to explore the variable properly.\n",
    "\n",
    "Opponent Win Rate as of 2022: In my original data set there is a percent sign at the end of each number. To operate on this column, I removed the percent sign and change the data type to numeric.\n",
    "\n",
    "Date of Event: This variable was originally an object, so I used pd.to_datetime to properly store it as a datetime variable.\n",
    "\n",
    "Placing in event: I will be operating on this column. Therefore, I used the .astype method to change it to a numeric variable. "
   ]
  },
  {
   "cell_type": "code",
   "execution_count": 9,
   "metadata": {},
   "outputs": [],
   "source": [
    "df['Opponents Win Rate as of 2022'] = df['Opponents Win Rate as of 2022'].str.replace('%', '')\n",
    "df['Opponents Win Rate as of 2022'] = pd.to_numeric(df['Opponents Win Rate as of 2022'])"
   ]
  },
  {
   "cell_type": "code",
   "execution_count": 10,
   "metadata": {
    "scrolled": true
   },
   "outputs": [],
   "source": [
    "df['Date of Event'] = pd.to_datetime(df['Date of Event'])"
   ]
  },
  {
   "cell_type": "code",
   "execution_count": 11,
   "metadata": {},
   "outputs": [],
   "source": [
    "df['Placing in event'] = df['Placing in event'].astype(dtype='int')"
   ]
  },
  {
   "cell_type": "markdown",
   "metadata": {},
   "source": [
    "## Exploring the Data"
   ]
  },
  {
   "cell_type": "markdown",
   "metadata": {},
   "source": [
    "### Overall Win Rate\n",
    "\n",
    "Overall win rate, like sports, is a determining factor on how skill is perceived. This can be used to determine both my skill level and the skill level of my opponents. This section is a high-level overview of my win rate but, later I will detail my win rates versus players of different skill levels."
   ]
  },
  {
   "cell_type": "markdown",
   "metadata": {},
   "source": [
    "#### Total Number of Wins (All Time)"
   ]
  },
  {
   "cell_type": "code",
   "execution_count": 12,
   "metadata": {},
   "outputs": [
    {
     "data": {
      "text/plain": [
       "Win    223\n",
       "Name: Win or Lose, dtype: int64"
      ]
     },
     "execution_count": 12,
     "metadata": {},
     "output_type": "execute_result"
    }
   ],
   "source": [
    "df[df['Win or Lose'] == 'Win']['Win or Lose'].value_counts()"
   ]
  },
  {
   "cell_type": "markdown",
   "metadata": {},
   "source": [
    "#### My Win Rate for In Person Events\n",
    "\n",
    "I have a 57.62%-win rate all time in in-person events. Filtering out events held online is important as online events are seen to be less credible than in-person events for a variety of reasons. A players win rate can fluctuate depending on the strength of their player base, recent performances, and overall consistency."
   ]
  },
  {
   "cell_type": "code",
   "execution_count": 13,
   "metadata": {},
   "outputs": [
    {
     "data": {
      "text/plain": [
       "Win    57.622739\n",
       "Name: Win or Lose, dtype: float64"
      ]
     },
     "execution_count": 13,
     "metadata": {},
     "output_type": "execute_result"
    }
   ],
   "source": [
    "((df[df['Win or Lose'] == 'Win']['Win or Lose'].value_counts())/df.shape[0])*100"
   ]
  },
  {
   "cell_type": "markdown",
   "metadata": {},
   "source": [
    "### Character Data\n",
    "\n",
    "There are 89 characters in Super Smash Bros Ultimate. Characters differ in their strengths and weaknesses. Similarly, to win rate, the characters a player plays against depends heavily on the player base. \n",
    "\n",
    "At the beginning of this project, I hypothesized that characters I play more frequently will result in a higher win rate for me because of familiarity. If I have only played a character once, I would guess that I would lose more than I win."
   ]
  },
  {
   "cell_type": "markdown",
   "metadata": {},
   "source": [
    "dfcharprob determines the frequency and probability at which I played each character in a match. The figure shows that Palutena is by far the most common character picked by my opponents. It is important to note Null is not a character but, is a placeholder if I could not find data on my opponent’s character."
   ]
  },
  {
   "cell_type": "code",
   "execution_count": 14,
   "metadata": {},
   "outputs": [],
   "source": [
    "dfcharprob = df['Opponents Main'].value_counts()\n",
    "dfcharprob = dfcharprob.reset_index()\n",
    "dfcharprob.columns=['Character', 'Frequency']\n",
    "dfcharprob['Probability'] = (dfcharprob['Frequency']/(dfcharprob['Frequency'].sum()))*100\n",
    "dfchart10 = dfcharprob[dfcharprob['Frequency'] > 10]"
   ]
  },
  {
   "cell_type": "code",
   "execution_count": 15,
   "metadata": {},
   "outputs": [
    {
     "data": {
      "image/png": "[encoded data removed]",
      "text/plain": [
       "<Figure size 432x288 with 1 Axes>"
      ]
     },
     "metadata": {
      "needs_background": "light"
     },
     "output_type": "display_data"
    }
   ],
   "source": [
    "fig = plt.figure()\n",
    "ax = fig.add_axes([0,0,2,1])\n",
    "ax.bar(dfchart10['Character'],dfchart10['Frequency'],color='tomato')\n",
    "ax.set_ylabel('Frequency', size=12)\n",
    "ax.set_xlabel('Character', size=12)\n",
    "ax.set_title('Most Frequently Picked Character by my Opponent')\n",
    "plt.style.use('default')\n",
    "plt.show()"
   ]
  },
  {
   "cell_type": "markdown",
   "metadata": {},
   "source": [
    "#### Win Rate Versus Each Character\n",
    "\n",
    "The original dataframe df_char looks at my win rate versus each character by a total count of wins and losses that is converted into a percent. I then manipulated this dataframe into df_relevant to isolate characters I had a 25-75% win rate on and visualize the results."
   ]
  },
  {
   "cell_type": "code",
   "execution_count": 16,
   "metadata": {},
   "outputs": [
    {
     "data": {
      "text/html": [
       "<div>\n",
       "<style scoped>\n",
       "    .dataframe tbody tr th:only-of-type {\n",
       "        vertical-align: middle;\n",
       "    }\n",
       "\n",
       "    .dataframe tbody tr th {\n",
       "        vertical-align: top;\n",
       "    }\n",
       "\n",
       "    .dataframe thead th {\n",
       "        text-align: right;\n",
       "    }\n",
       "</style>\n",
       "<table border=\"1\" class=\"dataframe\">\n",
       "  <thead>\n",
       "    <tr style=\"text-align: right;\">\n",
       "      <th></th>\n",
       "      <th>Character</th>\n",
       "      <th>Win Rate</th>\n",
       "    </tr>\n",
       "  </thead>\n",
       "  <tbody>\n",
       "    <tr>\n",
       "      <th>32</th>\n",
       "      <td>Megaman</td>\n",
       "      <td>0.0</td>\n",
       "    </tr>\n",
       "    <tr>\n",
       "      <th>56</th>\n",
       "      <td>Toon Link</td>\n",
       "      <td>0.0</td>\n",
       "    </tr>\n",
       "    <tr>\n",
       "      <th>3</th>\n",
       "      <td>Bowser Jr</td>\n",
       "      <td>0.0</td>\n",
       "    </tr>\n",
       "    <tr>\n",
       "      <th>48</th>\n",
       "      <td>Robin</td>\n",
       "      <td>0.0</td>\n",
       "    </tr>\n",
       "    <tr>\n",
       "      <th>38</th>\n",
       "      <td>Olimar</td>\n",
       "      <td>0.0</td>\n",
       "    </tr>\n",
       "    <tr>\n",
       "      <th>...</th>\n",
       "      <td>...</td>\n",
       "      <td>...</td>\n",
       "    </tr>\n",
       "    <tr>\n",
       "      <th>11</th>\n",
       "      <td>Falco</td>\n",
       "      <td>100.0</td>\n",
       "    </tr>\n",
       "    <tr>\n",
       "      <th>10</th>\n",
       "      <td>Diddy Kong</td>\n",
       "      <td>100.0</td>\n",
       "    </tr>\n",
       "    <tr>\n",
       "      <th>16</th>\n",
       "      <td>Ice Climbers</td>\n",
       "      <td>100.0</td>\n",
       "    </tr>\n",
       "    <tr>\n",
       "      <th>52</th>\n",
       "      <td>Sephiroth</td>\n",
       "      <td>100.0</td>\n",
       "    </tr>\n",
       "    <tr>\n",
       "      <th>17</th>\n",
       "      <td>Ike</td>\n",
       "      <td>100.0</td>\n",
       "    </tr>\n",
       "  </tbody>\n",
       "</table>\n",
       "<p>65 rows × 2 columns</p>\n",
       "</div>"
      ],
      "text/plain": [
       "       Character  Win Rate\n",
       "32       Megaman       0.0\n",
       "56     Toon Link       0.0\n",
       "3      Bowser Jr       0.0\n",
       "48         Robin       0.0\n",
       "38        Olimar       0.0\n",
       "..           ...       ...\n",
       "11         Falco     100.0\n",
       "10    Diddy Kong     100.0\n",
       "16  Ice Climbers     100.0\n",
       "52     Sephiroth     100.0\n",
       "17           Ike     100.0\n",
       "\n",
       "[65 rows x 2 columns]"
      ]
     },
     "execution_count": 16,
     "metadata": {},
     "output_type": "execute_result"
    }
   ],
   "source": [
    "df_char = ((df[df['Win or Lose'] == 'Win']['Opponents Main'].value_counts())/(df['Opponents Main'].value_counts()))*100\n",
    "df_char = df_char.reset_index()\n",
    "df_char.columns=['Character', 'Win Rate']\n",
    "df_char['Win Rate'].fillna(value=0, inplace=True)\n",
    "df_char['Win Rate'] = df_char['Win Rate'].apply(lambda x: round(x, 0))\n",
    "df_char.sort_values(by='Win Rate')"
   ]
  },
  {
   "cell_type": "code",
   "execution_count": 17,
   "metadata": {},
   "outputs": [],
   "source": [
    "df_relevant = df_char[(df_char['Win Rate'] <= 75) & (df_char['Win Rate'] >= 25)]\n",
    "df_relevant = df_relevant.sort_values(by='Win Rate',ascending=False)"
   ]
  },
  {
   "cell_type": "code",
   "execution_count": 18,
   "metadata": {},
   "outputs": [
    {
     "name": "stderr",
     "output_type": "stream",
     "text": [
      "<ipython-input-18-d4e475a4d123>:10: UserWarning: FixedFormatter should only be used together with FixedLocator\n",
      "  ax.set_xticklabels(labels=df_relevant['Character'],rotation=90, ha='right')\n"
     ]
    },
    {
     "data": {
      "image/png": "[encoded data removed]",
      "text/plain": [
       "<Figure size 640x480 with 1 Axes>"
      ]
     },
     "metadata": {},
     "output_type": "display_data"
    }
   ],
   "source": [
    "fig = plt.figure()\n",
    "ax = fig.add_axes([0,0,6,4])\n",
    "ax.bar(df_relevant['Character'],df_relevant['Win Rate'],color='tomato')\n",
    "ax.set_ylabel('% Win Rate')\n",
    "ax.set_xlabel('Character')\n",
    "ax.set_title('Win Rate versus Character')\n",
    "for item in ([ax.title, ax.xaxis.label, ax.yaxis.label] +\n",
    "             ax.get_xticklabels() + ax.get_yticklabels()):\n",
    "    item.set_fontsize(30)\n",
    "ax.set_xticklabels(labels=df_relevant['Character'],rotation=90, ha='right')\n",
    "plt.style.use('default')\n",
    "plt.show()"
   ]
  },
  {
   "cell_type": "markdown",
   "metadata": {},
   "source": [
    "### Player Data\n",
    "\n",
    "The dataset can show insights into how I preform versus different players. Factors such as win rate, frequency, and opponent win rate can reveal how one preforms in different situations. Whether it is how one preforms versus a really good player or how they preform versus one player in particular because of the character they play.\n",
    "\n",
    "One may look at this data and say, \"what is a Moogle?\". In Esports, it is common for players to give themselves what is called a \"tag\". This is what they go by in the community and often represents something for the player."
   ]
  },
  {
   "cell_type": "markdown",
   "metadata": {},
   "source": [
    "The dataframe 'oppfr' looks at the probability and frequency of playing an opponent. Similarly to the other data points, I will have played certain players more frequently based on the events I go to. \n",
    "\n",
    "In this section I will exploring different aspects of the data on my opponents."
   ]
  },
  {
   "cell_type": "code",
   "execution_count": 19,
   "metadata": {},
   "outputs": [
    {
     "data": {
      "text/html": [
       "<div>\n",
       "<style scoped>\n",
       "    .dataframe tbody tr th:only-of-type {\n",
       "        vertical-align: middle;\n",
       "    }\n",
       "\n",
       "    .dataframe tbody tr th {\n",
       "        vertical-align: top;\n",
       "    }\n",
       "\n",
       "    .dataframe thead th {\n",
       "        text-align: right;\n",
       "    }\n",
       "</style>\n",
       "<table border=\"1\" class=\"dataframe\">\n",
       "  <thead>\n",
       "    <tr style=\"text-align: right;\">\n",
       "      <th></th>\n",
       "      <th>Frequency of Times Played</th>\n",
       "      <th>Probability</th>\n",
       "    </tr>\n",
       "    <tr>\n",
       "      <th>Opponent</th>\n",
       "      <th></th>\n",
       "      <th></th>\n",
       "    </tr>\n",
       "  </thead>\n",
       "  <tbody>\n",
       "    <tr>\n",
       "      <th>Moogle</th>\n",
       "      <td>14</td>\n",
       "      <td>3.617571</td>\n",
       "    </tr>\n",
       "    <tr>\n",
       "      <th>Icyoyo</th>\n",
       "      <td>12</td>\n",
       "      <td>3.100775</td>\n",
       "    </tr>\n",
       "    <tr>\n",
       "      <th>Robber</th>\n",
       "      <td>11</td>\n",
       "      <td>2.842377</td>\n",
       "    </tr>\n",
       "    <tr>\n",
       "      <th>RDK</th>\n",
       "      <td>11</td>\n",
       "      <td>2.842377</td>\n",
       "    </tr>\n",
       "    <tr>\n",
       "      <th>Miloquinn</th>\n",
       "      <td>10</td>\n",
       "      <td>2.583979</td>\n",
       "    </tr>\n",
       "    <tr>\n",
       "      <th>...</th>\n",
       "      <td>...</td>\n",
       "      <td>...</td>\n",
       "    </tr>\n",
       "    <tr>\n",
       "      <th>The Babe</th>\n",
       "      <td>1</td>\n",
       "      <td>0.258398</td>\n",
       "    </tr>\n",
       "    <tr>\n",
       "      <th>HulkLogan</th>\n",
       "      <td>1</td>\n",
       "      <td>0.258398</td>\n",
       "    </tr>\n",
       "    <tr>\n",
       "      <th>TheCougar37</th>\n",
       "      <td>1</td>\n",
       "      <td>0.258398</td>\n",
       "    </tr>\n",
       "    <tr>\n",
       "      <th>Silent419Kill</th>\n",
       "      <td>1</td>\n",
       "      <td>0.258398</td>\n",
       "    </tr>\n",
       "    <tr>\n",
       "      <th>LM</th>\n",
       "      <td>1</td>\n",
       "      <td>0.258398</td>\n",
       "    </tr>\n",
       "  </tbody>\n",
       "</table>\n",
       "<p>196 rows × 2 columns</p>\n",
       "</div>"
      ],
      "text/plain": [
       "               Frequency of Times Played  Probability\n",
       "Opponent                                             \n",
       "Moogle                                14     3.617571\n",
       "Icyoyo                                12     3.100775\n",
       "Robber                                11     2.842377\n",
       "RDK                                   11     2.842377\n",
       "Miloquinn                             10     2.583979\n",
       "...                                  ...          ...\n",
       "The Babe                               1     0.258398\n",
       "HulkLogan                              1     0.258398\n",
       "TheCougar37                            1     0.258398\n",
       "Silent419Kill                          1     0.258398\n",
       "LM                                     1     0.258398\n",
       "\n",
       "[196 rows x 2 columns]"
      ]
     },
     "execution_count": 19,
     "metadata": {},
     "output_type": "execute_result"
    }
   ],
   "source": [
    "oppfr = df['Opponent'].value_counts()\n",
    "oppfr = oppfr.reset_index()\n",
    "oppfr.set_index('Opponent')\n",
    "oppfr.columns=['Opponent','Frequency of Times Played']\n",
    "oppfr['Probability'] = ((oppfr['Frequency of Times Played']/(oppfr['Frequency of Times Played'].sum()))*100)\n",
    "oppfr.set_index(keys='Opponent', inplace=True)\n",
    "oppfr"
   ]
  },
  {
   "cell_type": "markdown",
   "metadata": {},
   "source": [
    "My top 5 most played opponents are Moogle, Icyoyo, Robber, RDK, and Miloquinn. This is expected as all 5 of these players attend the events I attend on a weekly basis. Players such as SJW, Smokk, and Koozy do not regularly attend the same events as me. "
   ]
  },
  {
   "cell_type": "markdown",
   "metadata": {},
   "source": [
    "#### Finding My Win Rate for Players I have Played Frequently"
   ]
  },
  {
   "cell_type": "code",
   "execution_count": 20,
   "metadata": {},
   "outputs": [
    {
     "data": {
      "text/html": [
       "<div>\n",
       "<style scoped>\n",
       "    .dataframe tbody tr th:only-of-type {\n",
       "        vertical-align: middle;\n",
       "    }\n",
       "\n",
       "    .dataframe tbody tr th {\n",
       "        vertical-align: top;\n",
       "    }\n",
       "\n",
       "    .dataframe thead th {\n",
       "        text-align: right;\n",
       "    }\n",
       "</style>\n",
       "<table border=\"1\" class=\"dataframe\">\n",
       "  <thead>\n",
       "    <tr style=\"text-align: right;\">\n",
       "      <th></th>\n",
       "      <th>Win Rate</th>\n",
       "    </tr>\n",
       "    <tr>\n",
       "      <th>Opponent</th>\n",
       "      <th></th>\n",
       "    </tr>\n",
       "  </thead>\n",
       "  <tbody>\n",
       "    <tr>\n",
       "      <th>323</th>\n",
       "      <td>100.000000</td>\n",
       "    </tr>\n",
       "    <tr>\n",
       "      <th>9Lives</th>\n",
       "      <td>85.714286</td>\n",
       "    </tr>\n",
       "    <tr>\n",
       "      <th>ADB</th>\n",
       "      <td>50.000000</td>\n",
       "    </tr>\n",
       "    <tr>\n",
       "      <th>A_Spammer</th>\n",
       "      <td>100.000000</td>\n",
       "    </tr>\n",
       "    <tr>\n",
       "      <th>Acid</th>\n",
       "      <td>0.000000</td>\n",
       "    </tr>\n",
       "    <tr>\n",
       "      <th>...</th>\n",
       "      <td>...</td>\n",
       "    </tr>\n",
       "    <tr>\n",
       "      <th>XLR8</th>\n",
       "      <td>0.000000</td>\n",
       "    </tr>\n",
       "    <tr>\n",
       "      <th>XandaPanda</th>\n",
       "      <td>100.000000</td>\n",
       "    </tr>\n",
       "    <tr>\n",
       "      <th>YetiBlood</th>\n",
       "      <td>100.000000</td>\n",
       "    </tr>\n",
       "    <tr>\n",
       "      <th>Ze3bo</th>\n",
       "      <td>0.000000</td>\n",
       "    </tr>\n",
       "    <tr>\n",
       "      <th>Ziah</th>\n",
       "      <td>0.000000</td>\n",
       "    </tr>\n",
       "  </tbody>\n",
       "</table>\n",
       "<p>196 rows × 1 columns</p>\n",
       "</div>"
      ],
      "text/plain": [
       "              Win Rate\n",
       "Opponent              \n",
       "323         100.000000\n",
       "9Lives       85.714286\n",
       "ADB          50.000000\n",
       "A_Spammer   100.000000\n",
       "Acid          0.000000\n",
       "...                ...\n",
       "XLR8          0.000000\n",
       "XandaPanda  100.000000\n",
       "YetiBlood   100.000000\n",
       "Ze3bo         0.000000\n",
       "Ziah          0.000000\n",
       "\n",
       "[196 rows x 1 columns]"
      ]
     },
     "execution_count": 20,
     "metadata": {},
     "output_type": "execute_result"
    }
   ],
   "source": [
    "df_opp = ((df[df['Win or Lose'] == 'Win']['Opponent'].value_counts())/(df['Opponent'].value_counts()))*100\n",
    "df_opp = df_opp.reset_index()\n",
    "df_opp.columns=['Opponent', 'Win Rate']\n",
    "df_opp['Win Rate'].fillna(value=0, inplace=True)\n",
    "df_opp.set_index(keys='Opponent', inplace=True)\n",
    "df_opp"
   ]
  },
  {
   "cell_type": "markdown",
   "metadata": {},
   "source": [
    "The dataframe finalopp is a joined dataframe between Win Rates versus Opponents and the Frequency/Probability to face the opponent. I will be analyzing how my win rate changes depending on the amount of times I face an opponent. "
   ]
  },
  {
   "cell_type": "code",
   "execution_count": 21,
   "metadata": {},
   "outputs": [
    {
     "data": {
      "text/html": [
       "<div>\n",
       "<style scoped>\n",
       "    .dataframe tbody tr th:only-of-type {\n",
       "        vertical-align: middle;\n",
       "    }\n",
       "\n",
       "    .dataframe tbody tr th {\n",
       "        vertical-align: top;\n",
       "    }\n",
       "\n",
       "    .dataframe thead th {\n",
       "        text-align: right;\n",
       "    }\n",
       "</style>\n",
       "<table border=\"1\" class=\"dataframe\">\n",
       "  <thead>\n",
       "    <tr style=\"text-align: right;\">\n",
       "      <th></th>\n",
       "      <th>Win Rate</th>\n",
       "      <th>Frequency of Times Played</th>\n",
       "      <th>Probability</th>\n",
       "    </tr>\n",
       "    <tr>\n",
       "      <th>Opponent</th>\n",
       "      <th></th>\n",
       "      <th></th>\n",
       "      <th></th>\n",
       "    </tr>\n",
       "  </thead>\n",
       "  <tbody>\n",
       "    <tr>\n",
       "      <th>323</th>\n",
       "      <td>100.000000</td>\n",
       "      <td>1</td>\n",
       "      <td>0.258398</td>\n",
       "    </tr>\n",
       "    <tr>\n",
       "      <th>9Lives</th>\n",
       "      <td>85.714286</td>\n",
       "      <td>7</td>\n",
       "      <td>1.808786</td>\n",
       "    </tr>\n",
       "    <tr>\n",
       "      <th>ADB</th>\n",
       "      <td>50.000000</td>\n",
       "      <td>2</td>\n",
       "      <td>0.516796</td>\n",
       "    </tr>\n",
       "    <tr>\n",
       "      <th>A_Spammer</th>\n",
       "      <td>100.000000</td>\n",
       "      <td>1</td>\n",
       "      <td>0.258398</td>\n",
       "    </tr>\n",
       "    <tr>\n",
       "      <th>Acid</th>\n",
       "      <td>0.000000</td>\n",
       "      <td>4</td>\n",
       "      <td>1.033592</td>\n",
       "    </tr>\n",
       "    <tr>\n",
       "      <th>...</th>\n",
       "      <td>...</td>\n",
       "      <td>...</td>\n",
       "      <td>...</td>\n",
       "    </tr>\n",
       "    <tr>\n",
       "      <th>XLR8</th>\n",
       "      <td>0.000000</td>\n",
       "      <td>1</td>\n",
       "      <td>0.258398</td>\n",
       "    </tr>\n",
       "    <tr>\n",
       "      <th>XandaPanda</th>\n",
       "      <td>100.000000</td>\n",
       "      <td>1</td>\n",
       "      <td>0.258398</td>\n",
       "    </tr>\n",
       "    <tr>\n",
       "      <th>YetiBlood</th>\n",
       "      <td>100.000000</td>\n",
       "      <td>1</td>\n",
       "      <td>0.258398</td>\n",
       "    </tr>\n",
       "    <tr>\n",
       "      <th>Ze3bo</th>\n",
       "      <td>0.000000</td>\n",
       "      <td>1</td>\n",
       "      <td>0.258398</td>\n",
       "    </tr>\n",
       "    <tr>\n",
       "      <th>Ziah</th>\n",
       "      <td>0.000000</td>\n",
       "      <td>1</td>\n",
       "      <td>0.258398</td>\n",
       "    </tr>\n",
       "  </tbody>\n",
       "</table>\n",
       "<p>196 rows × 3 columns</p>\n",
       "</div>"
      ],
      "text/plain": [
       "              Win Rate  Frequency of Times Played  Probability\n",
       "Opponent                                                      \n",
       "323         100.000000                          1     0.258398\n",
       "9Lives       85.714286                          7     1.808786\n",
       "ADB          50.000000                          2     0.516796\n",
       "A_Spammer   100.000000                          1     0.258398\n",
       "Acid          0.000000                          4     1.033592\n",
       "...                ...                        ...          ...\n",
       "XLR8          0.000000                          1     0.258398\n",
       "XandaPanda  100.000000                          1     0.258398\n",
       "YetiBlood   100.000000                          1     0.258398\n",
       "Ze3bo         0.000000                          1     0.258398\n",
       "Ziah          0.000000                          1     0.258398\n",
       "\n",
       "[196 rows x 3 columns]"
      ]
     },
     "execution_count": 21,
     "metadata": {},
     "output_type": "execute_result"
    }
   ],
   "source": [
    "finalopp = df_opp.join(oppfr)\n",
    "finalopp"
   ]
  },
  {
   "cell_type": "code",
   "execution_count": 22,
   "metadata": {},
   "outputs": [],
   "source": [
    "comopp = oppfr[oppfr['Frequency of Times Played'] > 5]\n",
    "comopp = comopp.reset_index()"
   ]
  },
  {
   "cell_type": "code",
   "execution_count": 23,
   "metadata": {},
   "outputs": [
    {
     "name": "stdout",
     "output_type": "stream",
     "text": [
      "Win Rate vs Players I have played more than 5 times: 34.464285714285715\n",
      "Win Rate vs Players I have played 1 time: 66.66666666666667\n",
      "Win Rate vs Players I have played between 1 and 5 times: 65.35256410256409\n"
     ]
    }
   ],
   "source": [
    "print('Win Rate vs Players I have played more than 5 times:', finalopp[finalopp['Frequency of Times Played'] > 5]['Win Rate'].mean())\n",
    "print('Win Rate vs Players I have played 1 time:', finalopp[finalopp['Frequency of Times Played'] == 1]['Win Rate'].mean())\n",
    "print('Win Rate vs Players I have played between 1 and 5 times:', finalopp[(finalopp['Frequency of Times Played'] > 1) & (finalopp['Frequency of Times Played'] <= 5)]['Win Rate'].mean())"
   ]
  },
  {
   "cell_type": "markdown",
   "metadata": {},
   "source": [
    "These three metrics show that I often fair better versus opponents I have played 1 to 5 times with a 65%-win rate. When looking at opponents I have played more than 5 times my win rate drops to 34%. My hypothesis is that this is attributed to the strength of my region. The players I compete with often are held in high regard throughout my state."
   ]
  },
  {
   "cell_type": "code",
   "execution_count": 24,
   "metadata": {},
   "outputs": [
    {
     "data": {
      "image/png": "[encoded data removed]",
      "text/plain": [
       "<Figure size 640x480 with 1 Axes>"
      ]
     },
     "metadata": {},
     "output_type": "display_data"
    }
   ],
   "source": [
    "fig = plt.figure()\n",
    "ax = fig.add_axes([0,0,2,1])\n",
    "ax.bar(comopp['Opponent'],comopp['Frequency of Times Played'],color='tomato')\n",
    "ax.set_ylabel('Frequency', size=12)\n",
    "ax.set_xlabel('Opponent', size=12)\n",
    "ax.set_title('Most Frequently Played Opponent', size=12)\n",
    "plt.style.use('default')\n",
    "plt.show()"
   ]
  },
  {
   "cell_type": "markdown",
   "metadata": {},
   "source": [
    "#### My Win Rate vs Players with Different Win Rates\n",
    "\n",
    "This section is not statistically significant to my conclusions. As mentioned before, win rates of each opponent were taken at the time of gathering the data set. For more accurate results I would have liked to record my opponent's win rates on the day I played them. This section was done for my own fun and curiosity.\n",
    "\n",
    "The results told the story of a high win rate versus players who had a win rate of 0-50%. This is expected as my win rate of 57% suggests I am winning most of the matches I should win. For players around my win rate (50-60%) I had a 61%-win rate. Following that, once my opponents win rate goes above 60% my prospects for winning go down immensely. Even going as low as 3% versus players with a win rate above 80%. \n",
    "\n",
    "While my win rate versus the 50-60% range is good. When I calculate my win rate for all players above a 50%-win rate, my win rate drops to 42%.\n"
   ]
  },
  {
   "cell_type": "markdown",
   "metadata": {},
   "source": [
    "My Win Rate against opponents with a win rate between 0% and 50%"
   ]
  },
  {
   "cell_type": "code",
   "execution_count": 25,
   "metadata": {
    "scrolled": true
   },
   "outputs": [
    {
     "data": {
      "text/plain": [
       "Win    91.056911\n",
       "Name: Win or Lose, dtype: float64"
      ]
     },
     "execution_count": 25,
     "metadata": {},
     "output_type": "execute_result"
    }
   ],
   "source": [
    "df_oppwr0 = df[(df['Opponents Win Rate as of 2022'] >= 0) & (df['Opponents Win Rate as of 2022'] < 50)]\n",
    "((df_oppwr0[df_oppwr0['Win or Lose'] == 'Win']['Win or Lose'].value_counts())/df_oppwr0.shape[0])*100"
   ]
  },
  {
   "cell_type": "markdown",
   "metadata": {},
   "source": [
    "My Win Rate against opponents with a win rate between 50% and 60%"
   ]
  },
  {
   "cell_type": "code",
   "execution_count": 26,
   "metadata": {},
   "outputs": [
    {
     "data": {
      "text/plain": [
       "Win    61.6\n",
       "Name: Win or Lose, dtype: float64"
      ]
     },
     "execution_count": 26,
     "metadata": {},
     "output_type": "execute_result"
    }
   ],
   "source": [
    "df_oppwr50 = df[(df['Opponents Win Rate as of 2022'] >= 50) & (df['Opponents Win Rate as of 2022'] < 60)]\n",
    "((df_oppwr50[df_oppwr50['Win or Lose'] == 'Win']['Win or Lose'].value_counts())/df_oppwr50.shape[0])*100"
   ]
  },
  {
   "cell_type": "markdown",
   "metadata": {},
   "source": [
    "My Win Rate against opponents with a win rate between 60% and 70%"
   ]
  },
  {
   "cell_type": "code",
   "execution_count": 27,
   "metadata": {},
   "outputs": [
    {
     "data": {
      "text/plain": [
       "Win    32.352941\n",
       "Name: Win or Lose, dtype: float64"
      ]
     },
     "execution_count": 27,
     "metadata": {},
     "output_type": "execute_result"
    }
   ],
   "source": [
    "df_oppwr60 = df[(df['Opponents Win Rate as of 2022'] >= 60) & (df['Opponents Win Rate as of 2022'] < 70)]\n",
    "((df_oppwr60[df_oppwr60['Win or Lose'] == 'Win']['Win or Lose'].value_counts())/df_oppwr60.shape[0])*100"
   ]
  },
  {
   "cell_type": "markdown",
   "metadata": {},
   "source": [
    "My Win Rate against opponents with a win rate between 70% and 80%"
   ]
  },
  {
   "cell_type": "code",
   "execution_count": 28,
   "metadata": {},
   "outputs": [
    {
     "data": {
      "text/plain": [
       "Win    3.448276\n",
       "Name: Win or Lose, dtype: float64"
      ]
     },
     "execution_count": 28,
     "metadata": {},
     "output_type": "execute_result"
    }
   ],
   "source": [
    "df_oppwr70 = df[(df['Opponents Win Rate as of 2022'] >= 70) & (df['Opponents Win Rate as of 2022'] < 80)]\n",
    "((df_oppwr70[df_oppwr70['Win or Lose'] == 'Win']['Win or Lose'].value_counts())/df_oppwr70.shape[0])*100"
   ]
  },
  {
   "cell_type": "markdown",
   "metadata": {},
   "source": [
    "My Win Rate against opponents with a win rate above 50%"
   ]
  },
  {
   "cell_type": "code",
   "execution_count": 29,
   "metadata": {},
   "outputs": [
    {
     "data": {
      "text/plain": [
       "Win    42.045455\n",
       "Name: Win or Lose, dtype: float64"
      ]
     },
     "execution_count": 29,
     "metadata": {},
     "output_type": "execute_result"
    }
   ],
   "source": [
    "df_oppwrhalf = df[(df['Opponents Win Rate as of 2022'] >= 50)]\n",
    "((df_oppwrhalf[df_oppwrhalf['Win or Lose'] == 'Win']['Win or Lose'].value_counts())/df_oppwrhalf.shape[0])*100"
   ]
  },
  {
   "cell_type": "markdown",
   "metadata": {},
   "source": [
    "#### Game 3 Probabilities\n",
    "\n",
    "This small section looks at the probability that I play a 3 game set.\n",
    "\n",
    "The data shows I have a 28% chance to go to game 3 versus any opponent and the chance does not change when the opponents win rate is filtered for above 50%."
   ]
  },
  {
   "cell_type": "code",
   "execution_count": 30,
   "metadata": {},
   "outputs": [
    {
     "data": {
      "text/plain": [
       "28.699551569506728"
      ]
     },
     "execution_count": 30,
     "metadata": {},
     "output_type": "execute_result"
    }
   ],
   "source": [
    "dfg3 = df[(df['Set Score'] == '1-2') | (df['Set Score'] == '2-1')]['Set Score']\n",
    "dfg3 = dfg3.reset_index()\n",
    "dfg3.columns=['Set #', 'Set Score']\n",
    "dfg3[dfg3['Set Score'] == '1-2']['Set Score'].count()/dfg3.shape[0]*100"
   ]
  },
  {
   "cell_type": "code",
   "execution_count": 31,
   "metadata": {},
   "outputs": [
    {
     "name": "stdout",
     "output_type": "stream",
     "text": [
      "Probability to play a Game 3 set versus a player with a win rate greater than 50%: 28.165374677002585\n"
     ]
    }
   ],
   "source": [
    "df1 = df[((df['Set Score'] == '1-2') | (df['Set Score'] == '2-1'))]\n",
    "print('Probability to play a Game 3 set versus a player with a win rate greater than 50%:',\n",
    "      (df1[df1['Opponents Win Rate as of 2022'] > 50].shape[0])/df.shape[0]*100)"
   ]
  },
  {
   "cell_type": "markdown",
   "metadata": {},
   "source": [
    "### Top 8s\n",
    "\n",
    "Getting to the top 8 players in an event is a goal of a lot of players. This is usually where the upper echelon of players always make it to and gives new players a chance to make a name for themselves.\n",
    "\n",
    "The data shows I have top 8'd a total of 42 events. Due to some events having a small number of entrants I was curious how many top 8s I have achieved when the event is over 20 entrants. The 42 top 8s drop to 21 when it is filtered. This is expected as I have played in many events that have between 8-12 players where the benchmark for making a top 8 is a lot lower."
   ]
  },
  {
   "cell_type": "code",
   "execution_count": 32,
   "metadata": {},
   "outputs": [
    {
     "data": {
      "text/plain": [
       "5    15\n",
       "7    13\n",
       "4     7\n",
       "3     5\n",
       "2     2\n",
       "Name: Placing in event, dtype: int64"
      ]
     },
     "execution_count": 32,
     "metadata": {},
     "output_type": "execute_result"
    }
   ],
   "source": [
    "placement = df.groupby(by='Event').mean()\n",
    "placement[placement['Placing in event'] <= 8]['Placing in event'].value_counts()"
   ]
  },
  {
   "cell_type": "code",
   "execution_count": 33,
   "metadata": {},
   "outputs": [
    {
     "data": {
      "text/html": [
       "<div>\n",
       "<style scoped>\n",
       "    .dataframe tbody tr th:only-of-type {\n",
       "        vertical-align: middle;\n",
       "    }\n",
       "\n",
       "    .dataframe tbody tr th {\n",
       "        vertical-align: top;\n",
       "    }\n",
       "\n",
       "    .dataframe thead th {\n",
       "        text-align: right;\n",
       "    }\n",
       "</style>\n",
       "<table border=\"1\" class=\"dataframe\">\n",
       "  <thead>\n",
       "    <tr style=\"text-align: right;\">\n",
       "      <th></th>\n",
       "      <th>Placement</th>\n",
       "      <th>Frequency</th>\n",
       "    </tr>\n",
       "  </thead>\n",
       "  <tbody>\n",
       "    <tr>\n",
       "      <th>0</th>\n",
       "      <td>7</td>\n",
       "      <td>10</td>\n",
       "    </tr>\n",
       "    <tr>\n",
       "      <th>1</th>\n",
       "      <td>5</td>\n",
       "      <td>10</td>\n",
       "    </tr>\n",
       "    <tr>\n",
       "      <th>2</th>\n",
       "      <td>4</td>\n",
       "      <td>4</td>\n",
       "    </tr>\n",
       "    <tr>\n",
       "      <th>3</th>\n",
       "      <td>3</td>\n",
       "      <td>4</td>\n",
       "    </tr>\n",
       "    <tr>\n",
       "      <th>4</th>\n",
       "      <td>2</td>\n",
       "      <td>1</td>\n",
       "    </tr>\n",
       "  </tbody>\n",
       "</table>\n",
       "</div>"
      ],
      "text/plain": [
       "   Placement  Frequency\n",
       "0          7         10\n",
       "1          5         10\n",
       "2          4          4\n",
       "3          3          4\n",
       "4          2          1"
      ]
     },
     "execution_count": 33,
     "metadata": {},
     "output_type": "execute_result"
    }
   ],
   "source": [
    "mplacement = placement[(placement['Placing in event'] <= 8) & (placement['Number of Entrants in event'] >= 20)]['Placing in event'].value_counts()\n",
    "mplacement = mplacement.reset_index()\n",
    "mplacement.columns=['Placement', 'Frequency']\n",
    "mplacement"
   ]
  },
  {
   "cell_type": "markdown",
   "metadata": {},
   "source": [
    "### Area Data\n",
    "\n",
    "Throughout my time playing Super Smash Bros competitively, I have played in multiple regions. Depending on the region players may be stronger or weaker which impacts my win rate. \n",
    "\n",
    "In this section I broke down the 3 smaller regions I have played in (Fort Collins, Denver, Pennsylvania) along with a total win rate across the state of Colorado. I hypothesized that Pennsylvania would have the lowest win rate because the players I faced there were by far the strongest. In addition, Denver is typically a stronger region than Fort Collins, so I also expected my win rate to be lower in Denver compared to Fort Collins."
   ]
  },
  {
   "cell_type": "code",
   "execution_count": 34,
   "metadata": {},
   "outputs": [
    {
     "data": {
      "text/plain": [
       "Win    52.631579\n",
       "Name: Win or Lose, dtype: float64"
      ]
     },
     "execution_count": 34,
     "metadata": {},
     "output_type": "execute_result"
    }
   ],
   "source": [
    "df_pa = df[(df['Location (State)'] == 'Pennsylvania')]\n",
    "pawr = (df[(df['Location (State)'] == 'Pennsylvania') & (df['Win or Lose'] == 'Win')]['Win or Lose'].value_counts())/df_pa.shape[0]*100\n",
    "pawr"
   ]
  },
  {
   "cell_type": "code",
   "execution_count": 35,
   "metadata": {},
   "outputs": [
    {
     "data": {
      "text/plain": [
       "Win    60.0\n",
       "Name: Win or Lose, dtype: float64"
      ]
     },
     "execution_count": 35,
     "metadata": {},
     "output_type": "execute_result"
    }
   ],
   "source": [
    "df_co = df[(df['Location (State)'] == 'Colorado')]\n",
    "cowr = (df[(df['Location (State)'] == 'Colorado') & (df['Win or Lose'] == 'Win')]['Win or Lose'].value_counts())/df_co.shape[0]*100\n",
    "cowr"
   ]
  },
  {
   "cell_type": "code",
   "execution_count": 36,
   "metadata": {},
   "outputs": [
    {
     "data": {
      "text/plain": [
       "Win    60.43956\n",
       "Name: Win or Lose, dtype: float64"
      ]
     },
     "execution_count": 36,
     "metadata": {},
     "output_type": "execute_result"
    }
   ],
   "source": [
    "df_fc = df[(df['Location (City)'] == 'Fort Collins')]\n",
    "fcwr = (df[(df['Location (City)'] == 'Fort Collins') & (df['Win or Lose'] == 'Win')]['Win or Lose'].value_counts())/df_fc.shape[0]*100\n",
    "fcwr"
   ]
  },
  {
   "cell_type": "code",
   "execution_count": 37,
   "metadata": {},
   "outputs": [
    {
     "data": {
      "text/plain": [
       "Win    59.090909\n",
       "Name: Win or Lose, dtype: float64"
      ]
     },
     "execution_count": 37,
     "metadata": {},
     "output_type": "execute_result"
    }
   ],
   "source": [
    "df_de = df[(df['Location (City)'] == 'Denver')]\n",
    "dewr = (df[(df['Location (City)'] == 'Denver') & (df['Win or Lose'] == 'Win')]['Win or Lose'].value_counts())/df_de.shape[0]*100\n",
    "dewr"
   ]
  },
  {
   "cell_type": "code",
   "execution_count": 38,
   "metadata": {
    "scrolled": true
   },
   "outputs": [
    {
     "name": "stdout",
     "output_type": "stream",
     "text": [
      "Opponents Win Rate in PA: 48.421052631578945\n",
      "Opponents Win Rate in CO: 53.61875\n",
      "Opponents Win Rate in Fort Collins: 53.99267399267399\n",
      "Opponents Win Rate in Denver: 50.79545454545455\n"
     ]
    }
   ],
   "source": [
    "pa_oppwr = df_pa['Opponents Win Rate as of 2022'].mean()\n",
    "print('Opponents Win Rate in PA:', pa_oppwr)\n",
    "co_oppwr = df_co['Opponents Win Rate as of 2022'].mean()\n",
    "print('Opponents Win Rate in CO:', co_oppwr)\n",
    "fc_oppwr = df_fc['Opponents Win Rate as of 2022'].mean()\n",
    "print('Opponents Win Rate in Fort Collins:', fc_oppwr)\n",
    "de_oppwr = df_de['Opponents Win Rate as of 2022'].mean()\n",
    "print('Opponents Win Rate in Denver:', de_oppwr)"
   ]
  },
  {
   "cell_type": "markdown",
   "metadata": {},
   "source": [
    "## Conclusion"
   ]
  },
  {
   "cell_type": "markdown",
   "metadata": {},
   "source": [
    "This was a fun project for me. I handmade most of the dataset and scraped some of the other columns. Competing in Super Smash Bros has been a passion for 3 years now. Being able to combine my passion of Super Smash Bros with my passion for Data Analytics has been something I've wanted to do for a while. Breaking down my own data gave me insights into my play that I may have never been able to see by browsing my results. \n",
    "\n",
    "Thank you for reading my Analysis!"
   ]
  }
 ],
 "metadata": {
  "kernelspec": {
   "display_name": "Python 3",
   "language": "python",
   "name": "python3"
  },
  "language_info": {
   "codemirror_mode": {
    "name": "ipython",
    "version": 3
   },
   "file_extension": ".py",
   "mimetype": "text/x-python",
   "name": "python",
   "nbconvert_exporter": "python",
   "pygments_lexer": "ipython3",
   "version": "3.8.5"
  }
 },
 "nbformat": 4,
 "nbformat_minor": 4
}
